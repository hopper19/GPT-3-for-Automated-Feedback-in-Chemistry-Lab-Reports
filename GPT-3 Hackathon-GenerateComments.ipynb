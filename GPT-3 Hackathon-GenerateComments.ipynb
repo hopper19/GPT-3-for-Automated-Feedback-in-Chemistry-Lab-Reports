{
 "cells": [
  {
   "cell_type": "code",
   "execution_count": null,
   "metadata": {},
   "outputs": [],
   "source": [
    "# INSTALL\n",
    "!pip3 install --upgrade openai\n",
    "!pip3 install python-dotenv"
   ]
  },
  {
   "cell_type": "code",
   "execution_count": 1,
   "metadata": {
    "scrolled": true
   },
   "outputs": [],
   "source": [
    "import os\n",
    "import openai\n",
    "from dotenv import load_dotenv\n",
    "\n",
    "load_dotenv()\n",
    "openai.api_key=os.getenv(\"OPEN_API_KEY\")"
   ]
  },
  {
   "cell_type": "code",
   "execution_count": 3,
   "metadata": {},
   "outputs": [
    {
     "name": "stdout",
     "output_type": "stream",
     "text": [
      "{\n",
      "  \"data\": [\n",
      "    {\n",
      "      \"created\": null,\n",
      "      \"id\": \"ada\",\n",
      "      \"max_replicas\": null,\n",
      "      \"object\": \"engine\",\n",
      "      \"owner\": \"openai\",\n",
      "      \"permissions\": null,\n",
      "      \"ready\": true,\n",
      "      \"ready_replicas\": null,\n",
      "      \"replicas\": null\n",
      "    },\n",
      "    {\n",
      "      \"created\": null,\n",
      "      \"id\": \"babbage\",\n",
      "      \"max_replicas\": null,\n",
      "      \"object\": \"engine\",\n",
      "      \"owner\": \"openai\",\n",
      "      \"permissions\": null,\n",
      "      \"ready\": true,\n",
      "      \"ready_replicas\": null,\n",
      "      \"replicas\": null\n",
      "    },\n",
      "    {\n",
      "      \"created\": null,\n",
      "      \"id\": \"content-filter-alpha-c4\",\n",
      "      \"max_replicas\": null,\n",
      "      \"object\": \"engine\",\n",
      "      \"owner\": \"openai\",\n",
      "      \"permissions\": null,\n",
      "      \"ready\": true,\n",
      "      \"ready_replicas\": null,\n",
      "      \"replicas\": null\n",
      "    },\n",
      "    {\n",
      "      \"created\": null,\n",
      "      \"id\": \"content-filter-dev\",\n",
      "      \"max_replicas\": null,\n",
      "      \"object\": \"engine\",\n",
      "      \"owner\": \"openai\",\n",
      "      \"permissions\": null,\n",
      "      \"ready\": true,\n",
      "      \"ready_replicas\": null,\n",
      "      \"replicas\": null\n",
      "    },\n",
      "    {\n",
      "      \"created\": null,\n",
      "      \"id\": \"curie\",\n",
      "      \"max_replicas\": null,\n",
      "      \"object\": \"engine\",\n",
      "      \"owner\": \"openai\",\n",
      "      \"permissions\": null,\n",
      "      \"ready\": true,\n",
      "      \"ready_replicas\": null,\n",
      "      \"replicas\": null\n",
      "    },\n",
      "    {\n",
      "      \"created\": null,\n",
      "      \"id\": \"curie-instruct-beta\",\n",
      "      \"max_replicas\": null,\n",
      "      \"object\": \"engine\",\n",
      "      \"owner\": \"openai\",\n",
      "      \"permissions\": null,\n",
      "      \"ready\": true,\n",
      "      \"ready_replicas\": null,\n",
      "      \"replicas\": null\n",
      "    },\n",
      "    {\n",
      "      \"created\": null,\n",
      "      \"id\": \"cursing-filter-v6\",\n",
      "      \"max_replicas\": null,\n",
      "      \"object\": \"engine\",\n",
      "      \"owner\": \"openai\",\n",
      "      \"permissions\": null,\n",
      "      \"ready\": true,\n",
      "      \"ready_replicas\": null,\n",
      "      \"replicas\": null\n",
      "    },\n",
      "    {\n",
      "      \"created\": null,\n",
      "      \"id\": \"davinci\",\n",
      "      \"max_replicas\": null,\n",
      "      \"object\": \"engine\",\n",
      "      \"owner\": \"openai\",\n",
      "      \"permissions\": null,\n",
      "      \"ready\": true,\n",
      "      \"ready_replicas\": null,\n",
      "      \"replicas\": null\n",
      "    },\n",
      "    {\n",
      "      \"created\": null,\n",
      "      \"id\": \"davinci-instruct-beta\",\n",
      "      \"max_replicas\": null,\n",
      "      \"object\": \"engine\",\n",
      "      \"owner\": \"openai\",\n",
      "      \"permissions\": null,\n",
      "      \"ready\": true,\n",
      "      \"ready_replicas\": null,\n",
      "      \"replicas\": null\n",
      "    }\n",
      "  ],\n",
      "  \"object\": \"list\"\n",
      "}\n"
     ]
    }
   ],
   "source": [
    "# list engines\n",
    "engines = openai.Engine.list()\n",
    "print (engines)"
   ]
  },
  {
   "cell_type": "code",
   "execution_count": 9,
   "metadata": {},
   "outputs": [],
   "source": [
    "promptInit = \"Read the following chemistry lab report, then make a helpful comment to improve report.\\n#####\\n\"\n",
    "\n",
    "reportExample0 = \"Report: Methods: Materials: 1. Commercial Calorimeter 2. Styrofoam Calorimeter 3. Paraffin Paper 4. Magnesium 5. 3M Hydrochloric acid 6. 3M Sodium hydroxide 7. Thermometer 8. Cardboard 9. Stir Rod 10. Watch glass 11. Scale 12. Scissors 13. 10 mL graduated cylinder 14. 50 mL and 100mL beakers 15. Hot plate Part 1 Methods: The first thing to do is gather all of the materials listed for week 1 and put on all of your safety equipment including safety gloves, lab coat, and goggles. Then, you will need to construct the Styrofoam calorimeter. Place the two cups inside of each other and then cut a piece of cardboard into a circle so that it is just bigger than the circumference of the cups and can be taped over, closing all gaps for air to come in. Then cut two small holes through the piece of cardboard big enough to fit the thermometer in one and the stir rod in the other. Measure out two separate samples of 40mL of distilled water. Heat one of the samples to around 65 degrees Celsius using a hot plate. Record the exact temperature of both the samples of water, one should be at around room temperature and the other at around 65 degrees Celsius. Next, add the two samples of water into the Styrofoam cups and immediately place the piece of cardboard with the thermometer and stir rod inside of it onto the cups and seal it by wrapping paraffin paper around it. Stir throughout the reaction to ensure there is a full reaction. Record the temperature of the water in 30 second intervals until it stops changing. Repeat that process for a total of three trials. Then do the same with the commercial calorimeter. Place two samples of 40mL of water, one heated and one at room temperature, into the glass beaker inside the commercial calorimeter, place the cardboard piece over the top of it, and then use the thermometer in the cardboard to record the temperature until it stops changing. Repeat these steps with the commercial calorimeter for a total of three trials as well. Record the average initial temperature, final temperature, and the change for both calorimeters.\\nComments: Use exact amounts when measuring temperatures.\\n#####\\n\"\n",
    "reportExample1 = \"Report: Methods Part 1 Methods: The student must acquire all the needed materials: 2 Styrofoam cups, cardboard, scissors, a thermometer, a stirrer, hot plate, 10mL graduated cylinder, 100mL beaker, commercial calorimeter, NaOH, HCl, water, Magnesium, and a scale. The first step of this experiment is to make a Styrofoam beaker by getting 2 Styrofoam cups and putting one into the other. Get a piece of cardboard and cut it out into a circle so it fits in the cup. Make two holes in the cardboard (one for the thermometer and the other for the stirrer. Put it to the side. Then heat up the hot plate to the max. Fill a graduated cylinder to 10mL then pour it into a 100mL beaker. Fill the graduated cylinder to 10mL for a total of 5 times and pour it into the 100mL beaker so it’s filled to 50mL. Put the thermometer in the beaker and put the beaker on the hot plate. Let the water heat up to 60°C. While this beaker heats up repeat the same procedure of filling the graduated cylinder to 10mL 5 times and pouring it into another 100mL beaker. Once the first beaker is at 60°C you take both beakers. And pour it into the Styrofoam cup and quickly put the cardboard in and seal it with parafilm. Put the thermometer in and the stirrer and stir it. Record the temperature change for 5 minutes at 20 second intervals 3 different times. Repeat these steps with the commercial calorimeter.\\nComments: Use more concise language. Be more specific about how materials are used in experiment.\\n#####\\n\"\n",
    "\n",
    "report1 = \"Report: Methods Part 1 Methods: The student must acquire all the needed materials: 2 Styrofoam cups, cardboard, scissors, a thermometer, a stirrer, hot plate, 10mL graduated cylinder, 100mL beaker, commercial calorimeter, NaOH, HCl, water, Magnesium, and a scale. The first step of this experiment is to make a Styrofoam beaker by getting 2 Styrofoam cups and putting one into the other. Get a piece of cardboard and cut it out into a circle so it fits in the cup. Make two holes in the cardboard (one for the thermometer and the other for the stirrer. Put it to the side. Then heat up the hot plate to the max. Fill a graduated cylinder to 10mL then pour it into a 100mL beaker. Fill the graduated cylinder to 10mL for a total of 5 times and pour it into the 100mL beaker so it’s filled to 50mL. Put the thermometer in the beaker and put the beaker on the hot plate. Let the water heat up to 60°C. While this beaker heats up repeat the same procedure of filling the graduated cylinder to 10mL 5 times and pouring it into another 100mL beaker. Once the first beaker is at 60°C you take both beakers. And pour it into the Styrofoam cup and quickly put the cardboard in and seal it with parafilm. Put the thermometer in and the stirrer and stir it. Record the temperature change for 5 minutes at 20 second intervals 3 different times. Repeat these steps with the commercial calorimeter.\\nComments:\"\n",
    "report2 = \"Report: Methods Week 1 Two 100 mL beakers were obtained. One of the beakers was filled with 25 mL of room temperature distilled water. 25 mL of water was heated to 34.0° C and poured into the other beaker. The beaker with the room temperature water was placed into the Styrofoam calorimeter and we took and recorded the temperature of the water. The hot water was immediately poured into the room temperature water and we started the timer. Every 10 seconds the temperature of the mixed water was recorded for a total of 3 minutes. We repeated this process for the commercial calorimeter except the water was heated to 36.7° C. A 3M stock solution of HCl was obtained and diluted to a .25M solution by adding . 02083 L of 3M HCl to .25L of distilled water that was measured in a 10 mL graduated cylinder. The HCl solution was then poured into a 100 mL beaker. .250 g of NaOH was weighed out and added to a a 25 mL volumetric flask. The 25 mL volumetric flask was then filled with distilled water up to the fill line. The 25 mL HCl solution in the beaker was placed inside the Styrofoam calorimeter and the temperature of it taken. The 25 mL NaOH solution was then poured into the HCl solution and the cover of the Styrofoam calorimeter promptly put on. We recorded the temperature change of the solution every 10 seconds until the temperature decreased from the peak temperature and then pleatued for at least 30 seconds. We repeated all of these steps for the commercial calorimeter.\\nComments:\"\n",
    "reportN = \"Report: \\nComments:\"\n",
    "\n",
    "prompt1 = (promptInit + reportExample0 + report1)\n",
    "prompt2 = (promptInit + reportExample1 + report2)"
   ]
  },
  {
   "cell_type": "markdown",
   "metadata": {},
   "source": [
    "### Generating comments using [curie-instruct-beta] engine"
   ]
  },
  {
   "cell_type": "code",
   "execution_count": 10,
   "metadata": {},
   "outputs": [
    {
     "name": "stdout",
     "output_type": "stream",
     "text": [
      "Read the following chemistry lab report, then make a helpful comment to improve report.\n",
      "#####\n",
      "Report: Methods Part 1 Methods: The student must acquire all the needed materials: 2 Styrofoam cups, cardboard, scissors, a thermometer, a stirrer, hot plate, 10mL graduated cylinder, 100mL beaker, commercial calorimeter, NaOH, HCl, water, Magnesium, and a scale. The first step of this experiment is to make a Styrofoam beaker by getting 2 Styrofoam cups and putting one into the other. Get a piece of cardboard and cut it out into a circle so it fits in the cup. Make two holes in the cardboard (one for the thermometer and the other for the stirrer. Put it to the side. Then heat up the hot plate to the max. Fill a graduated cylinder to 10mL then pour it into a 100mL beaker. Fill the graduated cylinder to 10mL for a total of 5 times and pour it into the 100mL beaker so it’s filled to 50mL. Put the thermometer in the beaker and put the beaker on the hot plate. Let the water heat up to 60°C. While this beaker heats up repeat the same procedure of filling the graduated cylinder to 10mL 5 times and pouring it into another 100mL beaker. Once the first beaker is at 60°C you take both beakers. And pour it into the Styrofoam cup and quickly put the cardboard in and seal it with parafilm. Put the thermometer in and the stirrer and stir it. Record the temperature change for 5 minutes at 20 second intervals 3 different times. Repeat these steps with the commercial calorimeter.\n",
      "Comments: Use more concise language. Be more specific about how materials are used in experiment.\n",
      "#####\n",
      "Report: Methods Week 1 Two 100 mL beakers were obtained. One of the beakers was filled with 25 mL of room temperature distilled water. 25 mL of water was heated to 34.0° C and poured into the other beaker. The beaker with the room temperature water was placed into the Styrofoam calorimeter and we took and recorded the temperature of the water. The hot water was immediately poured into the room temperature water and we started the timer. Every 10 seconds the temperature of the mixed water was recorded for a total of 3 minutes. We repeated this process for the commercial calorimeter except the water was heated to 36.7° C. A 3M stock solution of HCl was obtained and diluted to a .25M solution by adding . 02083 L of 3M HCl to .25L of distilled water that was measured in a 10 mL graduated cylinder. The HCl solution was then poured into a 100 mL beaker. .250 g of NaOH was weighed out and added to a a 25 mL volumetric flask. The 25 mL volumetric flask was then filled with distilled water up to the fill line. The 25 mL HCl solution in the beaker was placed inside the Styrofoam calorimeter and the temperature of it taken. The 25 mL NaOH solution was then poured into the HCl solution and the cover of the Styrofoam calorimeter promptly put on. We recorded the temperature change of the solution every 10 seconds until the temperature decreased from the peak temperature and then pleatued for at least 30 seconds. We repeated all of these steps for the commercial calorimeter.\n",
      "Comments:\n",
      " Use more concise language. Be more specific about how materials are used in experiment.\n"
     ]
    }
   ],
   "source": [
    "# create a completion\n",
    "curie_completion = openai.Completion.create(\n",
    "    engine=\"curie-instruct-beta\",\n",
    "    prompt=prompt2,\n",
    "    temperature=0.25,\n",
    "    max_tokens=64\n",
    ")\n",
    "\n",
    "# print the completion\n",
    "print(prompt2)\n",
    "print(curie_completion.choices[0].text)"
   ]
  },
  {
   "cell_type": "markdown",
   "metadata": {},
   "source": [
    "### Generating comments using [davinci-instruct-beta] engine"
   ]
  },
  {
   "cell_type": "code",
   "execution_count": 11,
   "metadata": {},
   "outputs": [
    {
     "name": "stdout",
     "output_type": "stream",
     "text": [
      "Read the following chemistry lab report, then make a helpful comment to improve report.\n",
      "#####\n",
      "Report: Methods: Materials: 1. Commercial Calorimeter 2. Styrofoam Calorimeter 3. Paraffin Paper 4. Magnesium 5. 3M Hydrochloric acid 6. 3M Sodium hydroxide 7. Thermometer 8. Cardboard 9. Stir Rod 10. Watch glass 11. Scale 12. Scissors 13. 10 mL graduated cylinder 14. 50 mL and 100mL beakers 15. Hot plate Part 1 Methods: The first thing to do is gather all of the materials listed for week 1 and put on all of your safety equipment including safety gloves, lab coat, and goggles. Then, you will need to construct the Styrofoam calorimeter. Place the two cups inside of each other and then cut a piece of cardboard into a circle so that it is just bigger than the circumference of the cups and can be taped over, closing all gaps for air to come in. Then cut two small holes through the piece of cardboard big enough to fit the thermometer in one and the stir rod in the other. Measure out two separate samples of 40mL of distilled water. Heat one of the samples to around 65 degrees Celsius using a hot plate. Record the exact temperature of both the samples of water, one should be at around room temperature and the other at around 65 degrees Celsius. Next, add the two samples of water into the Styrofoam cups and immediately place the piece of cardboard with the thermometer and stir rod inside of it onto the cups and seal it by wrapping paraffin paper around it. Stir throughout the reaction to ensure there is a full reaction. Record the temperature of the water in 30 second intervals until it stops changing. Repeat that process for a total of three trials. Then do the same with the commercial calorimeter. Place two samples of 40mL of water, one heated and one at room temperature, into the glass beaker inside the commercial calorimeter, place the cardboard piece over the top of it, and then use the thermometer in the cardboard to record the temperature until it stops changing. Repeat these steps with the commercial calorimeter for a total of three trials as well. Record the average initial temperature, final temperature, and the change for both calorimeters.\n",
      "Comments: Use exact amounts when measuring temperatures.\n",
      "#####\n",
      "Report: Methods Part 1 Methods: The student must acquire all the needed materials: 2 Styrofoam cups, cardboard, scissors, a thermometer, a stirrer, hot plate, 10mL graduated cylinder, 100mL beaker, commercial calorimeter, NaOH, HCl, water, Magnesium, and a scale. The first step of this experiment is to make a Styrofoam beaker by getting 2 Styrofoam cups and putting one into the other. Get a piece of cardboard and cut it out into a circle so it fits in the cup. Make two holes in the cardboard (one for the thermometer and the other for the stirrer. Put it to the side. Then heat up the hot plate to the max. Fill a graduated cylinder to 10mL then pour it into a 100mL beaker. Fill the graduated cylinder to 10mL for a total of 5 times and pour it into the 100mL beaker so it’s filled to 50mL. Put the thermometer in the beaker and put the beaker on the hot plate. Let the water heat up to 60°C. While this beaker heats up repeat the same procedure of filling the graduated cylinder to 10mL 5 times and pouring it into another 100mL beaker. Once the first beaker is at 60°C you take both beakers. And pour it into the Styrofoam cup and quickly put the cardboard in and seal it with parafilm. Put the thermometer in and the stirrer and stir it. Record the temperature change for 5 minutes at 20 second intervals 3 different times. Repeat these steps with the commercial calorimeter.\n",
      "Comments:\n",
      " The student should use the exact temperature when measuring the temperature.\n"
     ]
    }
   ],
   "source": [
    "# create a completion\n",
    "davinci_completion = openai.Completion.create(\n",
    "    engine=\"davinci-instruct-beta\",\n",
    "    prompt=prompt1,\n",
    "    temperature=0.25,\n",
    "    max_tokens=64\n",
    ")\n",
    "\n",
    "# print the completion\n",
    "print(prompt1)\n",
    "print(davinci_completion.choices[0].text)"
   ]
  },
  {
   "cell_type": "markdown",
   "metadata": {},
   "source": [
    "# Comments / Useful\n",
    "Michael: \"davinci\" is the best; \"davinci-instruct-beta\" is good for generation/handling prompts\n"
   ]
  },
  {
   "cell_type": "markdown",
   "metadata": {},
   "source": [
    "### Import key using ConfigParser\n",
    "!pip3 install configparser\n",
    "import configparser\n",
    "\n",
    "config = configparser.RawConfigParser()   \n",
    "config.read('gpt3_config.txt') \n",
    "key = config.get('GPT-3 API Key', 'apikey')"
   ]
  }
 ],
 "metadata": {
  "kernelspec": {
   "display_name": "Python 3",
   "language": "python",
   "name": "python3"
  },
  "language_info": {
   "codemirror_mode": {
    "name": "ipython",
    "version": 3
   },
   "file_extension": ".py",
   "mimetype": "text/x-python",
   "name": "python",
   "nbconvert_exporter": "python",
   "pygments_lexer": "ipython3",
   "version": "3.8.5"
  }
 },
 "nbformat": 4,
 "nbformat_minor": 4
}
