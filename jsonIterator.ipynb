{
 "cells": [
  {
   "cell_type": "code",
   "execution_count": null,
   "metadata": {},
   "outputs": [],
   "source": [
    "!pip3 install jsonlines"
   ]
  },
  {
   "cell_type": "code",
   "execution_count": 1,
   "metadata": {},
   "outputs": [],
   "source": [
    "import os\n",
    "import sys\n",
    "import openai\n",
    "import jsonlines\n",
    "from dotenv import load_dotenv\n",
    "\n",
    "load_dotenv()\n",
    "openai.api_key=os.getenv(\"OPEN_API_KEY\")"
   ]
  },
  {
   "cell_type": "code",
   "execution_count": 15,
   "metadata": {},
   "outputs": [],
   "source": [
    "promptInit0 = \"Read the following chemistry lab report, then make a helpful comment to improve report.\\n#####\\n\"\n",
    "reportExample = \"Report: Methods: Materials: 1. Commercial Calorimeter 2. Styrofoam Calorimeter 3. Paraffin Paper 4. Magnesium 5. 3M Hydrochloric acid 6. 3M Sodium hydroxide 7. Thermometer 8. Cardboard 9. Stir Rod 10. Watch glass 11. Scale 12. Scissors 13. 10 mL graduated cylinder 14. 50 mL and 100mL beakers 15. Hot plate Part 1 Methods: The first thing to do is gather all of the materials listed for week 1 and put on all of your safety equipment including safety gloves, lab coat, and goggles. Then, you will need to construct the Styrofoam calorimeter. Place the two cups inside of each other and then cut a piece of cardboard into a circle so that it is just bigger than the circumference of the cups and can be taped over, closing all gaps for air to come in. Then cut two small holes through the piece of cardboard big enough to fit the thermometer in one and the stir rod in the other. Measure out two separate samples of 40mL of distilled water. Heat one of the samples to around 65 degrees Celsius using a hot plate. Record the exact temperature of both the samples of water, one should be at around room temperature and the other at around 65 degrees Celsius. Next, add the two samples of water into the Styrofoam cups and immediately place the piece of cardboard with the thermometer and stir rod inside of it onto the cups and seal it by wrapping paraffin paper around it. Stir throughout the reaction to ensure there is a full reaction. Record the temperature of the water in 30 second intervals until it stops changing. Repeat that process for a total of three trials. Then do the same with the commercial calorimeter. Place two samples of 40mL of water, one heated and one at room temperature, into the glass beaker inside the commercial calorimeter, place the cardboard piece over the top of it, and then use the thermometer in the cardboard to record the temperature until it stops changing. Repeat these steps with the commercial calorimeter for a total of three trials as well. Record the average initial temperature, final temperature, and the change for both calorimeters.\\nComments: Use exact amounts when measuring temperatures.\\n#####\\n\"\n",
    "promptInit1 = 'Report: '\n",
    "promptInit2 = 'Comments:'"
   ]
  },
  {
   "cell_type": "code",
   "execution_count": 16,
   "metadata": {},
   "outputs": [],
   "source": [
    "def generateComment( report ):\n",
    "    \n",
    "    prompt = (promptInit0 + reportExample + promptInit1 + report + promptInit2)\n",
    "    \n",
    "    # create a completion\n",
    "    curie_completion = openai.Completion.create(\n",
    "        engine=\"curie-instruct-beta\",\n",
    "        prompt=prompt,\n",
    "        temperature=0.5,\n",
    "        max_tokens=64\n",
    "    )\n",
    "    \n",
    "    output = (promptInit1 + report + promptInit2 + '\\n' + curie_completion.choices[0].text + '++++++++++++++++++++++++++++++++++++++++')\n",
    "    \n",
    "    with open('comments.txt', 'a+') as outputFile:\n",
    "        print(output.encode('utf8'), file=outputFile)\n",
    "    \n",
    "    return;"
   ]
  },
  {
   "cell_type": "code",
   "execution_count": 17,
   "metadata": {},
   "outputs": [],
   "source": [
    "def main():\n",
    "\n",
    "    print('Starting comment generation...')\n",
    "    \n",
    "    x = 0\n",
    "    # import jsonLines from file\n",
    "    with jsonlines.open('shuffled-dataset-without-not-nolinebreak.jsonl') as f:\n",
    "        # loop thru jsonLines and generate original comment every 100 times\n",
    "        for line in f.iter():\n",
    "            x = x + 1\n",
    "            if (x % 100 == 0):\n",
    "                generateComment(line['text'])\n",
    "    \n",
    "    print('...finished.')"
   ]
  },
  {
   "cell_type": "code",
   "execution_count": 18,
   "metadata": {},
   "outputs": [
    {
     "name": "stdout",
     "output_type": "stream",
     "text": [
      "Starting comment generation...\n",
      "...finished.\n"
     ]
    }
   ],
   "source": [
    "if __name__ == '__main__':\n",
    "    main()"
   ]
  }
 ],
 "metadata": {
  "kernelspec": {
   "display_name": "Python 3",
   "language": "python",
   "name": "python3"
  },
  "language_info": {
   "codemirror_mode": {
    "name": "ipython",
    "version": 3
   },
   "file_extension": ".py",
   "mimetype": "text/x-python",
   "name": "python",
   "nbconvert_exporter": "python",
   "pygments_lexer": "ipython3",
   "version": "3.8.5"
  }
 },
 "nbformat": 4,
 "nbformat_minor": 4
}
