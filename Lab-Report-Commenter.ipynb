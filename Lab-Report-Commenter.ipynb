{
 "cells": [
  {
   "cell_type": "code",
   "execution_count": null,
   "id": "23c1b8b1",
   "metadata": {},
   "outputs": [],
   "source": [
    "import os\n",
    "import openai\n",
    "import random\n",
    "import json\n",
    "from dotenv import load_dotenv\n",
    "\n",
    "load_dotenv()\n",
    "openai.api_key=os.getenv(\"OPEN_API_KEY\")"
   ]
  },
  {
   "cell_type": "markdown",
   "id": "ca093a0a",
   "metadata": {},
   "source": [
    "# GENERATE JSON LINES FILE FROM DATASET"
   ]
  },
  {
   "cell_type": "code",
   "execution_count": null,
   "id": "a545561b",
   "metadata": {},
   "outputs": [],
   "source": [
    "curpath = \"./GPT3/\"\n",
    "\n",
    "# dictionary where the texts will be stored\n",
    "dictionary = {}\n",
    "\n",
    "labels = {\n",
    "    \"amounts.use.exact.amounts\": \"Use exact amounts.\",\n",
    "    \"grammar.correct.grammar\": \"Correct grammar!\",\n",
    "    \"grammar.use.appropriate.tense\": \"Use appropriate tense.\",\n",
    "    \"headings.organize.add.headings\": \"Organize and add headings.\",\n",
    "    \"materials.clarify.materials\": \"Clarify materials.\",\n",
    "    \"methods.add.methods\":  \"Add methods.\",\n",
    "    \"methods.clarify.methods\": \"Clarify methods.\",\n",
    "    \"methods.dont.include.analysis.in.methods.section\": \"Don't include analysis in the Methods section.\",\n",
    "    \"methods.elaborate.on.methods\": \"Elaborate on methods.\",\n",
    "    \"methods.strong.methods\": \"Strong methods!\",\n",
    "    \"organization.format.paragraphs\": \"Format paragraphs.\",\n",
    "    \"organization.organize.sentences\": \"Organize sentences.\",\n",
    "    \"rubric.split.into.part1.and.part2\": \"Split Methods into Part 1 and Part 2.\",\n",
    "    \"third.person.speak.in.third.person\": \"Speak in third person.\"\n",
    "}\n",
    "\n",
    "jsonlfile = open('comprehensive-dataset-linebreak.jsonl', mode='w')\n",
    "\n",
    "for subdir, dirs, files in os.walk(curpath):\n",
    "    for file in files:\n",
    "        if \"not\" not in subdir:\n",
    "            f = open(os.path.join(subdir, file), \"r\", encoding=\"utf-8-sig\")\n",
    "            text = f.read()\n",
    "            f.close()\n",
    "\n",
    "            dictionary['text'] = text\n",
    "            dictionary['label']=labels[os.path.basename(subdir)]\n",
    "\n",
    "            json.dump(dictionary,jsonlfile)\n",
    "            jsonlfile.write('\\n')\n",
    "    \n",
    "jsonlfile.close()"
   ]
  },
  {
   "cell_type": "markdown",
   "id": "b9b0b276",
   "metadata": {},
   "source": [
    "# SHUFFLE THE INPUT DATA FILE"
   ]
  },
  {
   "cell_type": "code",
   "execution_count": null,
   "id": "ab2bfd65",
   "metadata": {},
   "outputs": [],
   "source": [
    "with open('short-dataset.jsonl','r') as source:\n",
    "    data = [ (random.random(), line) for line in source ]\n",
    "data.sort()\n",
    "with open('shuffled-short-dataset.jsonl','w') as target:\n",
    "    for _, line in data:\n",
    "        target.write( line )"
   ]
  },
  {
   "cell_type": "markdown",
   "id": "cbe0a321",
   "metadata": {},
   "source": [
    "# UPLOAD THE JSONL FILE TO OPENAI"
   ]
  },
  {
   "cell_type": "code",
   "execution_count": null,
   "id": "d44faa5d",
   "metadata": {},
   "outputs": [],
   "source": [
    "openai.File.create(\n",
    "  file=open(\"shuffled-comprehensive-dataset-linebreak-6705.jsonl\"),\n",
    "  purpose='classifications'\n",
    ")"
   ]
  },
  {
   "cell_type": "code",
   "execution_count": 103,
   "id": "c444232b",
   "metadata": {},
   "outputs": [
    {
     "data": {
      "text/plain": [
       "<OpenAIObject list at 0x1d9c6f1fc20> JSON: {\n",
       "  \"data\": [\n",
       "    {\n",
       "      \"bytes\": 9680063,\n",
       "      \"created_at\": 1622379747,\n",
       "      \"filename\": \"shuffled-comprehensive-dataset-linebreak-6705.jsonl\",\n",
       "      \"id\": \"file-jk19goXab32m40kfUgUcD4Pp\",\n",
       "      \"object\": \"file\",\n",
       "      \"purpose\": \"classifications\",\n",
       "      \"status\": \"processed\",\n",
       "      \"status_details\": null\n",
       "    },\n",
       "    {\n",
       "      \"bytes\": 153371,\n",
       "      \"created_at\": 1622345024,\n",
       "      \"filename\": \"shuffled-comprehensive-dataset-100.jsonl\",\n",
       "      \"id\": \"file-iLE4U6Qszedbnmrn1P1NE7oR\",\n",
       "      \"object\": \"file\",\n",
       "      \"purpose\": \"classifications\",\n",
       "      \"status\": \"processed\",\n",
       "      \"status_details\": null\n",
       "    },\n",
       "    {\n",
       "      \"bytes\": 9516506,\n",
       "      \"created_at\": 1622346505,\n",
       "      \"filename\": \"shuffled-comprehensive-dataset-6705.jsonl\",\n",
       "      \"id\": \"file-Wp1JYDJSU4HSySHRdCasqUke\",\n",
       "      \"object\": \"file\",\n",
       "      \"purpose\": \"classifications\",\n",
       "      \"status\": \"processed\",\n",
       "      \"status_details\": null\n",
       "    },\n",
       "    {\n",
       "      \"bytes\": 1382280,\n",
       "      \"created_at\": 1622345965,\n",
       "      \"filename\": \"shuffled-comprehensive-dataset-1000.jsonl\",\n",
       "      \"id\": \"file-QjfNF4FEqPb8a8itKSriwVEy\",\n",
       "      \"object\": \"file\",\n",
       "      \"purpose\": \"classifications\",\n",
       "      \"status\": \"processed\",\n",
       "      \"status_details\": null\n",
       "    },\n",
       "    {\n",
       "      \"bytes\": 11905232,\n",
       "      \"created_at\": 1622346236,\n",
       "      \"filename\": \"shuffled-comprehensive-dataset.jsonl\",\n",
       "      \"id\": \"file-Nzq2Xl8OrMTp8HFfnMnWLa5H\",\n",
       "      \"object\": \"file\",\n",
       "      \"purpose\": \"classifications\",\n",
       "      \"status\": \"processed\",\n",
       "      \"status_details\": null\n",
       "    }\n",
       "  ],\n",
       "  \"object\": \"list\"\n",
       "}"
      ]
     },
     "execution_count": 103,
     "metadata": {},
     "output_type": "execute_result"
    }
   ],
   "source": [
    "openai.File.list()"
   ]
  },
  {
   "cell_type": "markdown",
   "id": "7af7f019",
   "metadata": {},
   "source": [
    "# CREATE EVALUATIONS FOR THE USER INPUT REPORTS"
   ]
  },
  {
   "cell_type": "code",
   "execution_count": 106,
   "id": "3072d8eb",
   "metadata": {},
   "outputs": [
    {
     "name": "stdout",
     "output_type": "stream",
     "text": [
      "Methods In part one week one of the experiment, the lab group made three solutions. The solutions were KHP 1.02g for a 50ml .1m solution, NaOH 8.33g for a 100ml .1m solution, and HCL 3.33g for a 100ml .1m solution. The 1.02g of KHP was placed in a 50ml Erlenmeyer flask, 8.33ml of NaOH was placed into a 250ml Erlenmeyer flask and the 3.33 each solution was filled to their respective ml amounts with DI water and inverted in their flasks to make them homogenous. Next, through titration the base NaOH was standardized with the acid KHP. The KHP was inserted into the burette after the burette had been flushed with DI water. 10ml of the NaOH U12948112 CHML2045.902 solution was placed in a graduated cylinder and four drops of bromocresol purple was added to the NaOH solution. The KHP was then titrated into the NaOH and the amount of KHP used to reach the equivalence point was recorded. The titration of the NaOH was repeated four times. Next, the acid HCL was titrated with base NaOH in the same manner described above. However, that time the NaOH was in the burette and 10ml of HCL was in the graduated cylinder under the burette. The indicator added to the HCL for this part of the lab was phenolphthalein. The titration of the HCL was completed four times. Calculations were then completed to determine the actual concentration of the NaOH and HCL solutions. Once this was completed the HCL and NaOH was bottled and labeled to be used in the second part of the experiment.\n",
      "\n",
      "\n",
      "Evaluation comments for the report above:\n",
      "Strong methods!\n",
      "Don't include analysis in the methods section.\n",
      "Correct grammar!\n"
     ]
    }
   ],
   "source": [
    "input_text = \"Methods In part one week one of the experiment, the lab group made three solutions. The solutions were KHP 1.02g for a 50ml .1m solution, NaOH 8.33g for a 100ml .1m solution, and HCL 3.33g for a 100ml .1m solution. The 1.02g of KHP was placed in a 50ml Erlenmeyer flask, 8.33ml of NaOH was placed into a 250ml Erlenmeyer flask and the 3.33 each solution was filled to their respective ml amounts with DI water and inverted in their flasks to make them homogenous. Next, through titration the base NaOH was standardized with the acid KHP. The KHP was inserted into the burette after the burette had been flushed with DI water. 10ml of the NaOH U12948112 CHML2045.902 solution was placed in a graduated cylinder and four drops of bromocresol purple was added to the NaOH solution. The KHP was then titrated into the NaOH and the amount of KHP used to reach the equivalence point was recorded. The titration of the NaOH was repeated four times. Next, the acid HCL was titrated with base NaOH in the same manner described above. However, that time the NaOH was in the burette and 10ml of HCL was in the graduated cylinder under the burette. The indicator added to the HCL for this part of the lab was phenolphthalein. The titration of the HCL was completed four times. Calculations were then completed to determine the actual concentration of the NaOH and HCL solutions. Once this was completed the HCL and NaOH was bottled and labeled to be used in the second part of the experiment.\"\n",
    "input_text2 = \"Methods Group one carried out a solubility test at the beginning of the lab, hypothesizing that this would give a closer end result to identify the unknown. First, using 0.148 grams of the unknown compound as the solute and mixing with ammonium sulfate, silver nitrate, and water to test the compound's solubility. Next, group one performed a PH test to determine if the compound was acidic or basic. After completing the PH test group one determined that the PH of the unknown was 6, overall making the compound an acid. After, using a conductivity meter group one measured the conductivity using 0.148 grams of the compound and 20mL of the dL water, the conductivity measured to be 6.09.\"\n",
    "input_text3 = \"Methods: Part 1 Methods: Our goal for week one was to narrow down the possibilities that our unknown substance could be. By the end of the day, we would have 3 possible names that our unknown could be. First test that was done was the solubility test. We got three test tubes. Filled one with 5ml of deionized water, another with 5ml of acetone, and the last with 5ml of ethanol. Then we dropped a small sample of our unknown substance in each test tube and stirred the solution with a stirring rod. We then recorded whether the substance was soluble, partly soluble or insoluble. The second test we ran was the flame test. For this test, you will need a wire loop. First thing we do is clean the wire loop by soaking it in 0.1M Hydrogen Chloride. After it is clean, we put a small amount of the substance on the wire loop and then place the wire loop at the edge of the flame, created from a Bunsen burner. Then we observe whether the substance is flammable and we also observe and take note of the color of the flame. The third test we ran was the pH test. Dip a pH strip in the sample solution. Preferably the solution with water and the unknown substance. Record the color the color of the pH strip. Next, we used a pH meter to measure the actual pH levels of the solution. The last test we ran was the conductivity test. We placed the conductivity meter in the sample solution we created with the water. The units were expressed in mhos. Based on the four tests we narrowed down our possibilities on what our substance could be. We concluded that our unknown Sodium Carbonate, Sodium Chloride, and Sodium Oxalate.\"\n",
    "input_text4=\"Methods: When building the calorimeter, insulation was a priority in order to minimize heat loss. Two Styrofoam cups were used, one placed inside of the other. A piece of aluminum foil was folded and placed to cover the cups. A piece of cardboard was then placed on top of the aluminum foil. Two holes were made --one for the thermometer, one for the stirrer. After making the calorimeter, for each trial, a total of 80 mL of deionized water was used, measured using a graduated cylinder. 40 mL of the room temperature water was placed into the calorimeter, and the remaining 40 mL was heated to a desirable temperature using a Bunsen burner. The temperature of both waters were taken prior to combining them in the calorimeter. After recording the temperatures, the heated water was poured into the calorimeter, stirred and monitored the temperature, the most stable temperature was recorded. The temperature change as well as the specific heat of water was used to find the heat capacity of water. These exact steps were performed for three trials using the Styrofoam calorimeter, and three trials using the commercial calorimeter to ensure that the data was consistent.\"\n",
    "\n",
    "\n",
    "def create_response(inputtext):\n",
    "    response=openai.Classification.create( \n",
    "        model=\"ada\",\n",
    "        temperature=0.3,\n",
    "        query=inputtext,\n",
    "        file=\"file-jk19goXab32m40kfUgUcD4Pp\",\n",
    "    )\n",
    "    print(inputtext + \"\\n\\n\")\n",
    "    \n",
    "    # Print evaluation comments with information from the response\n",
    "    print(\"Evaluation comments for the report above:\")\n",
    "    print(response[\"label\"])\n",
    "    for i in range(len(response[\"selected_examples\"])):\n",
    "        if response[\"selected_examples\"][i][\"label\"] != response[\"label\"]:\n",
    "            print(response[\"selected_examples\"][i][\"label\"])\n",
    "            \n",
    "            \n",
    "create_response(input_text)"
   ]
  },
  {
   "cell_type": "code",
   "execution_count": 107,
   "id": "b6e4a95f",
   "metadata": {},
   "outputs": [
    {
     "name": "stdout",
     "output_type": "stream",
     "text": [
      "Methods Group one carried out a solubility test at the beginning of the lab, hypothesizing that this would give a closer end result to identify the unknown. First, using 0.148 grams of the unknown compound as the solute and mixing with ammonium sulfate, silver nitrate, and water to test the compound's solubility. Next, group one performed a PH test to determine if the compound was acidic or basic. After completing the PH test group one determined that the PH of the unknown was 6, overall making the compound an acid. After, using a conductivity meter group one measured the conductivity using 0.148 grams of the compound and 20mL of the dL water, the conductivity measured to be 6.09.\n",
      "\n",
      "\n",
      "Evaluation comments for the report above:\n",
      "Strong methods!\n",
      "Split methods into part 1 and part 2.\n",
      "Speak in third person.\n",
      "Organize and add headings.\n"
     ]
    }
   ],
   "source": [
    "create_response(input_text2)"
   ]
  },
  {
   "cell_type": "code",
   "execution_count": 108,
   "id": "80309114",
   "metadata": {},
   "outputs": [
    {
     "name": "stdout",
     "output_type": "stream",
     "text": [
      "Methods: Part 1 Methods: Our goal for week one was to narrow down the possibilities that our unknown substance could be. By the end of the day, we would have 3 possible names that our unknown could be. First test that was done was the solubility test. We got three test tubes. Filled one with 5ml of deionized water, another with 5ml of acetone, and the last with 5ml of ethanol. Then we dropped a small sample of our unknown substance in each test tube and stirred the solution with a stirring rod. We then recorded whether the substance was soluble, partly soluble or insoluble. The second test we ran was the flame test. For this test, you will need a wire loop. First thing we do is clean the wire loop by soaking it in 0.1M Hydrogen Chloride. After it is clean, we put a small amount of the substance on the wire loop and then place the wire loop at the edge of the flame, created from a Bunsen burner. Then we observe whether the substance is flammable and we also observe and take note of the color of the flame. The third test we ran was the pH test. Dip a pH strip in the sample solution. Preferably the solution with water and the unknown substance. Record the color the color of the pH strip. Next, we used a pH meter to measure the actual pH levels of the solution. The last test we ran was the conductivity test. We placed the conductivity meter in the sample solution we created with the water. The units were expressed in mhos. Based on the four tests we narrowed down our possibilities on what our substance could be. We concluded that our unknown Sodium Carbonate, Sodium Chloride, and Sodium Oxalate.\n",
      "\n",
      "\n",
      "Evaluation comments for the report above:\n",
      "Use appropriate tense.\n",
      "Use exact amounts.\n",
      "Organize and add headings.\n",
      "Speak in third person.\n"
     ]
    }
   ],
   "source": [
    "create_response(input_text3)"
   ]
  },
  {
   "cell_type": "code",
   "execution_count": 110,
   "id": "543150f6",
   "metadata": {},
   "outputs": [
    {
     "name": "stdout",
     "output_type": "stream",
     "text": [
      "Solubility: We started by measuring up 300 mg of our unknown three times (one of them was 310 mg). Then we took 3 volumetric flasks (VOLUME***). In the first one we measured up 20mL of H2O, the second one we measured up 20mL of C3H6O and in the last one we measured up 20mL of CH3CH2OH. Then we proceeded to pour 300 mg of our unknown salt in the H2O and CH3CH2OH while we in the C3H6O poured 310 mg. We then proceeded to stir the solutions to see in which chemicals the unknown salt would dissolve in.\n",
      "pH: We started by using 3 beakers (VOLUME***) and putting 10mL of the three chemicals used in the solubility experiment. We then used the pH probe to find the pH values of the different chemicals.\n",
      "Flame test: We started by turning on the Bunsen burner and making sure it was a colorless as possible. We then used a wire loop and dipped it in (*******) and then placed it on the Bunsen flame to obtain the color and write the color down.\n",
      "Conductivity:\n",
      "\n",
      "\n",
      "Evaluation comments for the report above:\n",
      "Organize and add headings.\n",
      "Strong methods!\n",
      "Speak in third person.\n"
     ]
    }
   ],
   "source": [
    "create_response(\"Solubility: We started by measuring up 300 mg of our unknown three times (one of them was 310 mg). Then we took 3 volumetric flasks (VOLUME***). In the first one we measured up 20mL of H2O, the second one we measured up 20mL of C3H6O and in the last one we measured up 20mL of CH3CH2OH. Then we proceeded to pour 300 mg of our unknown salt in the H2O and CH3CH2OH while we in the C3H6O poured 310 mg. We then proceeded to stir the solutions to see in which chemicals the unknown salt would dissolve in.\\npH: We started by using 3 beakers (VOLUME***) and putting 10mL of the three chemicals used in the solubility experiment. We then used the pH probe to find the pH values of the different chemicals.\\nFlame test: We started by turning on the Bunsen burner and making sure it was a colorless as possible. We then used a wire loop and dipped it in (*******) and then placed it on the Bunsen flame to obtain the color and write the color down.\\nConductivity:\")"
   ]
  },
  {
   "cell_type": "code",
   "execution_count": null,
   "id": "c3179a63",
   "metadata": {},
   "outputs": [],
   "source": []
  }
 ],
 "metadata": {
  "kernelspec": {
   "display_name": "Python 3",
   "language": "python",
   "name": "python3"
  },
  "language_info": {
   "codemirror_mode": {
    "name": "ipython",
    "version": 3
   },
   "file_extension": ".py",
   "mimetype": "text/x-python",
   "name": "python",
   "nbconvert_exporter": "python",
   "pygments_lexer": "ipython3",
   "version": "3.8.10"
  }
 },
 "nbformat": 4,
 "nbformat_minor": 5
}
