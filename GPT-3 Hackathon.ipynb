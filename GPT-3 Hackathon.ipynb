{
 "cells": [
  {
   "cell_type": "code",
   "execution_count": null,
   "metadata": {},
   "outputs": [],
   "source": [
    "#%pip install --upgrade openai"
   ]
  },
  {
   "cell_type": "code",
   "execution_count": null,
   "metadata": {},
   "outputs": [],
   "source": [
    "#%pip install configparser"
   ]
  },
  {
   "cell_type": "code",
   "execution_count": 2,
   "metadata": {},
   "outputs": [],
   "source": [
    "import configparser"
   ]
  },
  {
   "cell_type": "code",
   "execution_count": 9,
   "metadata": {},
   "outputs": [],
   "source": [
    "config = configparser.RawConfigParser()   \n",
    "config.read('gpt3_config.txt') \n",
    "\n",
    "key = config.get('GPT-3 API Key', 'apikey')\n"
   ]
  },
  {
   "cell_type": "code",
   "execution_count": 11,
   "metadata": {},
   "outputs": [
    {
     "name": "stdout",
     "output_type": "stream",
     "text": [
      "{\n",
      "  \"data\": [\n",
      "    {\n",
      "      \"created\": null,\n",
      "      \"id\": \"ada\",\n",
      "      \"max_replicas\": null,\n",
      "      \"object\": \"engine\",\n",
      "      \"owner\": \"openai\",\n",
      "      \"permissions\": null,\n",
      "      \"ready\": true,\n",
      "      \"ready_replicas\": null,\n",
      "      \"replicas\": null\n",
      "    },\n",
      "    {\n",
      "      \"created\": null,\n",
      "      \"id\": \"babbage\",\n",
      "      \"max_replicas\": null,\n",
      "      \"object\": \"engine\",\n",
      "      \"owner\": \"openai\",\n",
      "      \"permissions\": null,\n",
      "      \"ready\": true,\n",
      "      \"ready_replicas\": null,\n",
      "      \"replicas\": null\n",
      "    },\n",
      "    {\n",
      "      \"created\": null,\n",
      "      \"id\": \"content-filter-alpha-c4\",\n",
      "      \"max_replicas\": null,\n",
      "      \"object\": \"engine\",\n",
      "      \"owner\": \"openai\",\n",
      "      \"permissions\": null,\n",
      "      \"ready\": true,\n",
      "      \"ready_replicas\": null,\n",
      "      \"replicas\": null\n",
      "    },\n",
      "    {\n",
      "      \"created\": null,\n",
      "      \"id\": \"content-filter-dev\",\n",
      "      \"max_replicas\": null,\n",
      "      \"object\": \"engine\",\n",
      "      \"owner\": \"openai\",\n",
      "      \"permissions\": null,\n",
      "      \"ready\": true,\n",
      "      \"ready_replicas\": null,\n",
      "      \"replicas\": null\n",
      "    },\n",
      "    {\n",
      "      \"created\": null,\n",
      "      \"id\": \"curie\",\n",
      "      \"max_replicas\": null,\n",
      "      \"object\": \"engine\",\n",
      "      \"owner\": \"openai\",\n",
      "      \"permissions\": null,\n",
      "      \"ready\": true,\n",
      "      \"ready_replicas\": null,\n",
      "      \"replicas\": null\n",
      "    },\n",
      "    {\n",
      "      \"created\": null,\n",
      "      \"id\": \"curie-instruct-beta\",\n",
      "      \"max_replicas\": null,\n",
      "      \"object\": \"engine\",\n",
      "      \"owner\": \"openai\",\n",
      "      \"permissions\": null,\n",
      "      \"ready\": true,\n",
      "      \"ready_replicas\": null,\n",
      "      \"replicas\": null\n",
      "    },\n",
      "    {\n",
      "      \"created\": null,\n",
      "      \"id\": \"cursing-filter-v6\",\n",
      "      \"max_replicas\": null,\n",
      "      \"object\": \"engine\",\n",
      "      \"owner\": \"openai\",\n",
      "      \"permissions\": null,\n",
      "      \"ready\": true,\n",
      "      \"ready_replicas\": null,\n",
      "      \"replicas\": null\n",
      "    },\n",
      "    {\n",
      "      \"created\": null,\n",
      "      \"id\": \"davinci\",\n",
      "      \"max_replicas\": null,\n",
      "      \"object\": \"engine\",\n",
      "      \"owner\": \"openai\",\n",
      "      \"permissions\": null,\n",
      "      \"ready\": true,\n",
      "      \"ready_replicas\": null,\n",
      "      \"replicas\": null\n",
      "    },\n",
      "    {\n",
      "      \"created\": null,\n",
      "      \"id\": \"davinci-instruct-beta\",\n",
      "      \"max_replicas\": null,\n",
      "      \"object\": \"engine\",\n",
      "      \"owner\": \"openai\",\n",
      "      \"permissions\": null,\n",
      "      \"ready\": true,\n",
      "      \"ready_replicas\": null,\n",
      "      \"replicas\": null\n",
      "    }\n",
      "  ],\n",
      "  \"object\": \"list\"\n",
      "}\n"
     ]
    }
   ],
   "source": [
    "import openai\n",
    "openai.api_key = key\n",
    "# list engines\n",
    "engines = openai.Engine.list()\n",
    "print (engines)"
   ]
  },
  {
   "cell_type": "code",
   "execution_count": 12,
   "metadata": {},
   "outputs": [
    {
     "name": "stdout",
     "output_type": "stream",
     "text": [
      "! Begin at home deep in poverty, and woe unto you poor people who\n"
     ]
    }
   ],
   "source": [
    "# create a completion\n",
    "completion = openai.Completion.create(engine=\"ada\", prompt=\"Hello world\")\n",
    "\n",
    "# print the completion\n",
    "print(completion.choices[0].text)"
   ]
  },
  {
   "cell_type": "code",
   "execution_count": 14,
   "metadata": {},
   "outputs": [
    {
     "data": {
      "text/plain": [
       "<OpenAIObject text_completion id=cmpl-34tFnY9H71Qabo12qwPMN2fmXCXM6 at 0x1a0ea9db270> JSON: {\n",
       "  \"choices\": [\n",
       "    {\n",
       "      \"finish_reason\": \"length\",\n",
       "      \"index\": 0,\n",
       "      \"logprobs\": null,\n",
       "      \"text\": \"! Begin at home deep in poverty, and woe unto you poor people who\"\n",
       "    }\n",
       "  ],\n",
       "  \"created\": 1622294719,\n",
       "  \"id\": \"cmpl-34tFnY9H71Qabo12qwPMN2fmXCXM6\",\n",
       "  \"model\": \"ada:2020-05-03\",\n",
       "  \"object\": \"text_completion\"\n",
       "}"
      ]
     },
     "execution_count": 14,
     "metadata": {},
     "output_type": "execute_result"
    }
   ],
   "source": [
    "completion"
   ]
  },
  {
   "cell_type": "code",
   "execution_count": null,
   "metadata": {},
   "outputs": [],
   "source": [
    "# Michael: \"davinci\" is the best; \"davinci-instruct-beta\" is good for generation/handling prompts\n"
   ]
  }
 ],
 "metadata": {
  "kernelspec": {
   "display_name": "Python 3",
   "language": "python",
   "name": "python3"
  },
  "language_info": {
   "codemirror_mode": {
    "name": "ipython",
    "version": 3
   },
   "file_extension": ".py",
   "mimetype": "text/x-python",
   "name": "python",
   "nbconvert_exporter": "python",
   "pygments_lexer": "ipython3",
   "version": "3.8.3"
  }
 },
 "nbformat": 4,
 "nbformat_minor": 4
}
